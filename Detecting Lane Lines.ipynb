{
 "cells": [
  {
   "cell_type": "code",
   "execution_count": 7,
   "metadata": {},
   "outputs": [],
   "source": [
    "import numpy as np\n",
    "import matplotlib.pyplot as plt\n",
    "import matplotlib.image as mpimg\n",
    "import cv2\n",
    "import glob\n",
    "import os\n",
    "import pickle\n",
    "\n",
    "%matplotlib inline"
   ]
  },
  {
   "cell_type": "code",
   "execution_count": 8,
   "metadata": {},
   "outputs": [],
   "source": [
    "const = {}\n",
    "const['camera_calibration'] = './camera_cal'\n",
    "const['exmaples'] = './examples'\n",
    "const['test_images'] = './test_images'\n",
    "const['output'] = './output_images'\n",
    "const['project_video'] = './project_video.mp4'\n",
    "const['challenge_video'] = './challange_video.mp4'\n",
    "const['harder_challenge_video'] = './harder_challenge_video.mp4'"
   ]
  },
  {
   "cell_type": "code",
   "execution_count": 18,
   "metadata": {
    "scrolled": false
   },
   "outputs": [
    {
     "name": "stdout",
     "output_type": "stream",
     "text": [
      "Cornors found for image: calibration13.jpg\n",
      "Cornors found for image: calibration15.jpg\n",
      "Cornors found for image: calibration19.jpg\n",
      "Cornors found for image: calibration12.jpg\n",
      "Cornors found for image: calibration9.jpg\n",
      "Cornors found for image: calibration20.jpg\n",
      "Cornors found for image: calibration14.jpg\n",
      "Cornors found for image: calibration7.jpg\n",
      "Cornors found for image: calibration6.jpg\n",
      "Cornors found for image: calibration10.jpg\n",
      "Cornors found for image: calibration2.jpg\n",
      "Cornors found for image: calibration3.jpg\n",
      "Cornors found for image: calibration8.jpg\n",
      "Cornors found for image: calibration17.jpg\n",
      "Cornors found for image: calibration18.jpg\n",
      "Cornors found for image: calibration16.jpg\n",
      "Cornors found for image: calibration11.jpg\n"
     ]
    }
   ],
   "source": [
    "def camera_calibration_parameters(imgs, nx, ny, plot=False):\n",
    "    imgpoints = [] # 2D points in image\n",
    "    objpoints = [] # 3D points in real world\n",
    "\n",
    "    objp = np.zeros((nx * ny, 3), np.float32)\n",
    "    objp[:,:2] = np.mgrid[0:nx,0:ny].T.reshape(-1,2)\n",
    "\n",
    "    ret = False\n",
    "    c_mtx, dist = None, None\n",
    "    for img_path in calibration_img_paths:\n",
    "        img = mpimg.imread(img_path)\n",
    "        gray = cv2.cvtColor(img, cv2.COLOR_RGB2GRAY)\n",
    "\n",
    "        # Find the corners\n",
    "        ret, corners = cv2.findChessboardCorners(gray, (nx, ny), None)\n",
    "\n",
    "        # if corners are found, add object and image points\n",
    "        if ret == True:\n",
    "            imgpoints.append(corners)\n",
    "            objpoints.append(objp) # all object points will be the same for each image\n",
    "            filename = img_path.split('/')[-1]\n",
    "            print('Cornors found for image: {}'.format(filename))\n",
    "            \n",
    "            \n",
    "            # Draw and display corners\n",
    "            if plot:\n",
    "                img = cv2.drawChessboardCorners(img, (nx, ny), corners, ret)\n",
    "                plt.imshow(img)\n",
    "                plt.show()\n",
    "\n",
    "            \n",
    "    ret, c_mtx, dist, rvecs, tvecs = cv2.calibrateCamera(objpoints, imgpoints, gray.shape[::-1], None, None)\n",
    "    return ret, c_mtx, dist\n",
    "\n",
    "calibration_img_paths = glob.glob(os.path.join(const['camera_calibration'], '*.jpg'))\n",
    "calibration_params = camera_calibration_parameters(calibration_img_paths, 9, 6, False)"
   ]
  },
  {
   "cell_type": "code",
   "execution_count": null,
   "metadata": {},
   "outputs": [],
   "source": []
  },
  {
   "cell_type": "code",
   "execution_count": null,
   "metadata": {},
   "outputs": [],
   "source": []
  }
 ],
 "metadata": {
  "kernelspec": {
   "display_name": "Python 3",
   "language": "python",
   "name": "python3"
  },
  "language_info": {
   "codemirror_mode": {
    "name": "ipython",
    "version": 3
   },
   "file_extension": ".py",
   "mimetype": "text/x-python",
   "name": "python",
   "nbconvert_exporter": "python",
   "pygments_lexer": "ipython3",
   "version": "3.5.2"
  }
 },
 "nbformat": 4,
 "nbformat_minor": 2
}
