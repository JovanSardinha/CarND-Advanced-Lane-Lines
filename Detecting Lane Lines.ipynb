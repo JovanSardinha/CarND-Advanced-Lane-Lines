{
 "cells": [
  {
   "cell_type": "code",
   "execution_count": 1,
   "metadata": {},
   "outputs": [],
   "source": [
    "import numpy as np\n",
    "import matplotlib.pyplot as plt\n",
    "import matplotlib.image as mpimg\n",
    "import cv2\n",
    "import glob\n",
    "import os\n",
    "import pickle\n",
    "\n",
    "%matplotlib inline"
   ]
  },
  {
   "cell_type": "code",
   "execution_count": 2,
   "metadata": {},
   "outputs": [],
   "source": [
    "const = {}\n",
    "const['camera_calibration'] = './camera_cal'\n",
    "const['examples'] = './examples'\n",
    "const['test_images'] = './test_images'\n",
    "const['output'] = './output_images'\n",
    "const['project_video'] = './project_video.mp4'\n",
    "const['challenge_video'] = './challange_video.mp4'\n",
    "const['harder_challenge_video'] = './harder_challenge_video.mp4'\n",
    "const['saved_assets'] = './saved_assets'"
   ]
  },
  {
   "cell_type": "code",
   "execution_count": 3,
   "metadata": {
    "scrolled": false
   },
   "outputs": [
    {
     "name": "stdout",
     "output_type": "stream",
     "text": [
      "Cornors found for image: calibration13.jpg\n",
      "Cornors found for image: calibration15.jpg\n",
      "Cornors found for image: calibration19.jpg\n",
      "Cornors found for image: calibration12.jpg\n",
      "Cornors found for image: calibration9.jpg\n",
      "Cornors found for image: calibration20.jpg\n",
      "Cornors found for image: calibration14.jpg\n",
      "Cornors found for image: calibration7.jpg\n",
      "Cornors found for image: calibration6.jpg\n",
      "Cornors found for image: calibration10.jpg\n",
      "Cornors found for image: calibration2.jpg\n",
      "Cornors found for image: calibration3.jpg\n",
      "Cornors found for image: calibration8.jpg\n",
      "Cornors found for image: calibration17.jpg\n",
      "Cornors found for image: calibration18.jpg\n",
      "Cornors found for image: calibration16.jpg\n",
      "Cornors found for image: calibration11.jpg\n"
     ]
    }
   ],
   "source": [
    "def camera_calibration_parameters(imgs, nx, ny, plot=False):\n",
    "    imgpoints = [] # 2D points in image\n",
    "    objpoints = [] # 3D points in real world\n",
    "\n",
    "    objp = np.zeros((nx * ny, 3), np.float32)\n",
    "    objp[:,:2] = np.mgrid[0:nx,0:ny].T.reshape(-1,2)\n",
    "\n",
    "    ret = False\n",
    "    c_mtx, dist = None, None\n",
    "    for img_path in calibration_img_paths:\n",
    "        img = mpimg.imread(img_path)\n",
    "        gray = cv2.cvtColor(img, cv2.COLOR_RGB2GRAY)\n",
    "\n",
    "        # Find the corners\n",
    "        ret, corners = cv2.findChessboardCorners(gray, (nx, ny), None)\n",
    "\n",
    "        # if corners are found, add object and image points\n",
    "        if ret == True:\n",
    "            imgpoints.append(corners)\n",
    "            objpoints.append(objp) # all object points will be the same for each image\n",
    "            filename = img_path.split('/')[-1]\n",
    "            print('Cornors found for image: {}'.format(filename))\n",
    "            \n",
    "            \n",
    "            # Draw and display corners\n",
    "            if plot:\n",
    "                img = cv2.drawChessboardCorners(img, (nx, ny), corners, ret)\n",
    "                plt.imshow(img)\n",
    "                plt.show()\n",
    "\n",
    "            \n",
    "    ret, c_mtx, dist, rvecs, tvecs = cv2.calibrateCamera(objpoints, imgpoints, gray.shape[::-1], None, None)\n",
    "    return ret, c_mtx, dist\n",
    "\n",
    "calibration_img_paths = glob.glob(os.path.join(const['camera_calibration'], '*.jpg'))\n",
    "calibration_params = camera_calibration_parameters(calibration_img_paths, 9, 6, False)"
   ]
  },
  {
   "cell_type": "code",
   "execution_count": 3,
   "metadata": {},
   "outputs": [],
   "source": [
    "def save_calibration_params(calibration_params):\n",
    "    loc = os.path.join(const['saved_assets'], 'calibration_params.p')\n",
    "    pickle.dump(calibration_params, open( loc, \"wb\" ) )\n",
    "    print('saved asset to:', loc)\n",
    "\n",
    "def get_calibration_params(loc):\n",
    "    calibration_params = pickle.load( open( loc, \"rb\" ) )\n",
    "    return calibration_params\n",
    "#save_calibration_params(calibration_params)\n",
    "calibration_params  = get_calibration_params('./saved_assets/calibration_params.p')"
   ]
  },
  {
   "cell_type": "code",
   "execution_count": 14,
   "metadata": {},
   "outputs": [
    {
     "name": "stdout",
     "output_type": "stream",
     "text": [
      "saved image: ./output_images/test1.jpg\n",
      "saved image: ./output_images/straight_lines2.jpg\n",
      "saved image: ./output_images/test3.jpg\n",
      "saved image: ./output_images/test4.jpg\n",
      "saved image: ./output_images/test5.jpg\n",
      "saved image: ./output_images/test2.jpg\n",
      "saved image: ./output_images/straight_lines1.jpg\n",
      "saved image: ./output_images/test6.jpg\n"
     ]
    }
   ],
   "source": [
    "def undistort(img):\n",
    "    ret, mtx, dist = calibration_params\n",
    "    undist = cv2.undistort(img, mtx, dist, None, mtx)\n",
    "    return undist\n",
    "\n",
    "def undistort_images(images, save=False, plot=True):\n",
    "    for idx, img in enumerate(images):\n",
    "        filename = img.split('/')[-1]\n",
    "        output_path = os.path.join(const['output'], filename)\n",
    "\n",
    "        \n",
    "        img = mpimg.imread(img)\n",
    "        undist = undistort(img)\n",
    "\n",
    "        if save:\n",
    "            mpimg.imsave(output_path, undist)\n",
    "            print('saved image:', output_path )\n",
    "        \n",
    "        if plot:\n",
    "            f, ax = plt.subplots(1, 2, figsize=(20, 20))\n",
    "            ax[0].imshow(img)\n",
    "            ax[0].set_title('Original image', fontsize=15)\n",
    "            ax[1].imshow(undist)\n",
    "            ax[1].set_title('Undistorted image', fontsize=15)\n",
    "            ax[0].axis('off')\n",
    "            ax[1].axis('off')\n",
    "            plt.show()\n",
    "    \n",
    "\n",
    "test_imgs = glob.glob(os.path.join(const['test_images'], '*.jpg'))\n",
    "undistort_images(test_imgs, save=True, plot=False)"
   ]
  },
  {
   "cell_type": "code",
   "execution_count": null,
   "metadata": {},
   "outputs": [],
   "source": []
  }
 ],
 "metadata": {
  "kernelspec": {
   "display_name": "Python 3",
   "language": "python",
   "name": "python3"
  },
  "language_info": {
   "codemirror_mode": {
    "name": "ipython",
    "version": 3
   },
   "file_extension": ".py",
   "mimetype": "text/x-python",
   "name": "python",
   "nbconvert_exporter": "python",
   "pygments_lexer": "ipython3",
   "version": "3.5.2"
  }
 },
 "nbformat": 4,
 "nbformat_minor": 2
}
